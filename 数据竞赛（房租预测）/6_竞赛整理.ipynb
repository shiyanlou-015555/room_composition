{
 "cells": [
  {
   "cell_type": "markdown",
   "metadata": {},
   "source": [
    "# 任务6 比赛整理(2天)\n",
    "\n",
    "以赛方最后给的答辩模板为主线整理比赛思路，模拟比赛答辩环节，进行比赛整理。\n",
    "\n",
    "## Part1\n",
    "\n",
    "**参赛队成员简介**\n",
    "\n",
    " （这边主要介绍成员情况，如果有竞赛获奖就最好啦）\n",
    "\n",
    "ps：这个由于是模拟比赛所以这个部分可以不写哦\n",
    "\n",
    "## Part2\n",
    "\n",
    "**参赛作品概述**\n",
    "\n",
    "## Part3\n",
    "\n",
    "**关键技术阐述（数据清洗、特征工程、模型、模型融合，并强调对比赛提分最有帮助的部分）**\n",
    "\n",
    "## Part4\n",
    "\n",
    "**探索与创新（写明做的与众不同的创新点）**\n",
    "\n",
    "## Part5\n",
    "\n",
    "**实施与优化过程（在过程中尝试过的方法都可以提及并总结）**\n",
    "\n",
    "## Part6\n",
    "\n",
    "**其他（有其他需要补充的可以写在这个部分）**\n",
    "\n",
    "\n",
    "\n",
    "**（注：因为比赛是和企业合作，并具有实际意义的比赛，所以强调你的代码模型的实际意义，商业价值都会在答辩环节有帮助哦）**\n",
    "\n",
    "\n",
    "\n",
    "\n",
    "\n",
    "**任务时间 2天**\n"
   ]
  },
  {
   "cell_type": "markdown",
   "metadata": {
    "ExecuteTime": {
     "end_time": "2019-12-24T12:40:43.526848Z",
     "start_time": "2019-12-24T12:40:43.515876Z"
    }
   },
   "source": [
    "**参考连接：**\n",
    "[https://blog.csdn.net/qq_39756719/article/details/95634744](https://blog.csdn.net/qq_39756719/article/details/95634744)"
   ]
  }
 ],
 "metadata": {
  "kernelspec": {
   "display_name": "Python 3",
   "language": "python",
   "name": "python3"
  },
  "language_info": {
   "codemirror_mode": {
    "name": "ipython",
    "version": 3
   },
   "file_extension": ".py",
   "mimetype": "text/x-python",
   "name": "python",
   "nbconvert_exporter": "python",
   "pygments_lexer": "ipython3",
   "version": "3.5.3"
  },
  "toc": {
   "base_numbering": 1,
   "nav_menu": {},
   "number_sections": true,
   "sideBar": true,
   "skip_h1_title": false,
   "title_cell": "Table of Contents",
   "title_sidebar": "Contents",
   "toc_cell": false,
   "toc_position": {},
   "toc_section_display": true,
   "toc_window_display": true
  }
 },
 "nbformat": 4,
 "nbformat_minor": 2
}
