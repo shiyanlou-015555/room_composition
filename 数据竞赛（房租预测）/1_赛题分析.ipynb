{
 "cells": [
  {
   "cell_type": "markdown",
   "metadata": {},
   "source": [
    "# 任务1 赛题分析(2天)\n"
   ]
  },
  {
   "cell_type": "markdown",
   "metadata": {
    "id": "624CF51534074BF68805A8839EE29746",
    "mdEditEnable": false,
    "slideshow": {
     "slide_type": "slide"
    },
    "tags": []
   },
   "source": [
    "# 1. 赛题分析\n",
    "比赛要求参赛选手根据给定的数据集，建立模型，预测房屋租金。  \n",
    "数据集中的数据类别包括租赁房源、小区、二手房、配套、新房、土地、人口、客户、真实租金等。  \n",
    "这是典型的回归预测。  \n",
    "  \n",
    "## 预测指标\n",
    "#### 回归结果评价标准采用R-Square\n",
    "**R2（R-Square）的公式为**：\n",
    "残差平方和：\n",
    "$$\n",
    "SS_{res}=\\sum\\left(y_{i}-\\hat{y}_{i}\\right)^{2}\n",
    "$$\n",
    "总平均值:\n",
    "$$\n",
    "SS_{tot}=\\sum\\left(y_{i}-\\overline{y}_{i}\\right)^{2}\n",
    "$$\n",
    "\n",
    "其中$\\overline{y}$表示$y$的平均值\n",
    "得到$R^2$表达式为：\n",
    "$$\n",
    "R^{2}=1-\\frac{SS_{res}}{SS_{tot}}=1-\\frac{\\sum\\left(y_{i}-\\hat{y}_{i}\\right)^{2}}{\\sum\\left(y_{i}-\\overline{y}\\right)^{2}}\n",
    "$$\n",
    "$R^2$用于度量因变量的变异中可由自变量解释部分所占的比例，取值范围是 0~1，$R^2$越接近1,表明回归平方和占总平方和的比例越大,回归线与各观测点越接近，用x的变化来解释y值变化的部分就越多,回归的拟合程度就越好。所以$R^2$也称为拟合优度（Goodness of Fit）的统计量。\n",
    "\n",
    "$y_{i}$表示真实值，$\\hat{y}_{i}$表示预测值，$\\overline{y}_{i}$表示样本均值。得分越高拟合效果越好。\n",
    "  \n",
    "  \n",
    "## 数据概况\n",
    "\n",
    "**1.租赁基本信息：**\n",
    "* ID——房屋编号　　　　　　　　　　　　　　　　　　\n",
    "* area——房屋面积 　　　\n",
    "* rentType——出租方式：整租/合租/未知　\n",
    "* houseType——房型 　　　　　　　　　\n",
    "* houseFloor——房间所在楼层：高/中/低　　　　　\n",
    "* totalFloor——房间所在的总楼层数　　　　　　　　\n",
    "* houseToward——房间朝向　　　　　　　　　　　\n",
    "* houseDecoration——房屋装修　\n",
    "\n",
    "* tradeTime——成交日期　　　　　　　　　　　　　　　\n",
    "* tradeMoney——成交租金　\n",
    "\n",
    "**2.小区信息：**\n",
    "* CommunityName——小区名称　　　　　　　　\n",
    "* city——城市　　　　　　　　　　　　　　　　　\n",
    "* region——地区　　　　　　　　　　　　　　　\n",
    "* plate——区域板块　　　　　　　　　　　　　　\n",
    "* buildYear——小区建筑年代　　　　　　　　　　\n",
    "* saleSecHouseNum——该板块当月二手房挂牌房源数　　　\n",
    "\n",
    "**3.配套设施：**\n",
    "* subwayStationNum——该板块地铁站数量　　　　　　　\n",
    "* busStationNum——该板块公交站数量　　　　　　　　　\n",
    "* interSchoolNum——该板块国际学校的数量　　　　　　\n",
    "* schoolNum——该板块公立学校的数量　　　　　　　　\n",
    "* privateSchoolNum——该板块私立学校数量　　　　　\n",
    "* hospitalNum——该板块综合医院数量　　　　　　　　　\n",
    "* DrugStoreNum——该板块药房数量　　　　　　　　\n",
    "* gymNum——该板块健身中心数量　　　　　　　　　　\n",
    "* bankNum——该板块银行数量　　　　　　　　　　　\n",
    "* shopNum——该板块商店数量　　　　　　　　　　　\n",
    "* parkNum——该板块公园数量　　　　　　　　　　　\n",
    "* mallNum——该板块购物中心数量　　　　　　　　　\n",
    "* superMarketNum——该板块超市数量　　　　　　　\n",
    "\n",
    "**4.其他信息：**\n",
    "* totalTradeMoney——该板块当月二手房成交总金额　　　\n",
    "* totalTradeArea——该板块二手房成交总面积　　　　　　\n",
    "* tradeMeanPrice——该板块二手房成交均价　　　　　　　\n",
    "* tradeSecNum——该板块当月二手房成交套数　　　　　\n",
    "\n",
    "* totalNewTradeMoney——该板块当月新房成交总金额　　　\n",
    "* totalNewTradeArea——该板块当月新房成交的总面积　　　\n",
    "* totalNewMeanPrice——该板块当月新房成交均价　　　　　\n",
    "* tradeNewNum——该板块当月新房成交套数　　　　　　　　\n",
    "* remainNewNum——该板块当月新房未成交套数　　　　　　\n",
    "* supplyNewNum——该板块当月新房供应套数　　　　　　　\n",
    "\n",
    "* supplyLandNum——该板块当月土地供应幅数　　　　　 \n",
    "* supplyLandArea——该板块当月土地供应面积　　　　　\n",
    "* tradeLandNum——该板块当月土地成交幅数　　　　　　\n",
    "* tradeLandArea——该板块当月土地成交面积　　　　　 \n",
    "* landTotalPrice——该板块当月土地成交总价　　　　　\n",
    "* landMeanPrice——该板块当月楼板价(元/m^{2})　　　\n",
    "\n",
    "* totalWorkers——当前板块现有的办公人数　　　　　　　\n",
    "* newWorkers——该板块当月流入人口数（现招聘的人员）　\n",
    "* residentPopulation——该板块常住人口　　　　　　　　\n",
    "\n",
    "* pv——该板块当月租客浏览网页次数　　　　　　　　　　　\n",
    "* uv——该板块当月租客浏览网页总人数　　　　　　　　　　\n",
    "* lookNum——线下看房次数　　　　　　　　　　　　　　　\n",
    "　　　　\n"
   ]
  },
  {
   "cell_type": "code",
   "execution_count": 17,
   "metadata": {
    "ExecuteTime": {
     "end_time": "2019-12-24T14:06:14.700476Z",
     "start_time": "2019-12-24T14:06:14.489029Z"
    },
    "id": "EDF9B091264C42AF8FD7A283FCBAEFBA",
    "jupyter": {
     "outputs_hidden": false
    },
    "mdEditEnable": false,
    "slideshow": {
     "slide_type": "slide"
    },
    "tags": []
   },
   "outputs": [],
   "source": [
    "#coding:utf-8\n",
    "#导入warnings包，利用过滤器来实现忽略警告语句。\n",
    "import warnings\n",
    "warnings.filterwarnings('ignore')\n",
    "\n",
    "# GBDT\n",
    "from sklearn.ensemble import GradientBoostingRegressor\n",
    "# XGBoost\n",
    "import xgboost as xgb\n",
    "# LightGBM\n",
    "import lightgbm as lgb\n",
    "\n",
    "import pandas as pd\n",
    "import numpy as np\n",
    "import matplotlib.pyplot as plt\n",
    "import seaborn as sns"
   ]
  },
  {
   "cell_type": "code",
   "execution_count": 3,
   "metadata": {
    "ExecuteTime": {
     "end_time": "2019-12-24T14:04:51.300490Z",
     "start_time": "2019-12-24T14:04:50.791850Z"
    }
   },
   "outputs": [],
   "source": [
    "#载入数据\n",
    "data_train = pd.read_csv('./train_data.csv')\n",
    "data_train['Type'] = 'Train'\n",
    "data_test = pd.read_csv('./test_a.csv')\n",
    "data_test['Type'] = 'Test'\n",
    "data_all = pd.concat([data_train, data_test], ignore_index=True)"
   ]
  },
  {
   "cell_type": "markdown",
   "metadata": {},
   "source": [
    "## 总体情况一览"
   ]
  },
  {
   "cell_type": "code",
   "execution_count": 20,
   "metadata": {
    "ExecuteTime": {
     "end_time": "2019-12-24T14:07:26.382770Z",
     "start_time": "2019-12-24T14:07:26.116478Z"
    },
    "scrolled": true
   },
   "outputs": [
    {
     "name": "stdout",
     "output_type": "stream",
     "text": [
      "<class 'pandas.core.frame.DataFrame'>\n",
      "RangeIndex: 41440 entries, 0 to 41439\n",
      "Data columns (total 52 columns):\n",
      "ID                    41440 non-null int64\n",
      "area                  41440 non-null float64\n",
      "rentType              41440 non-null object\n",
      "houseType             41440 non-null object\n",
      "houseFloor            41440 non-null object\n",
      "totalFloor            41440 non-null int64\n",
      "houseToward           41440 non-null object\n",
      "houseDecoration       41440 non-null object\n",
      "communityName         41440 non-null object\n",
      "city                  41440 non-null object\n",
      "region                41440 non-null object\n",
      "plate                 41440 non-null object\n",
      "buildYear             41440 non-null object\n",
      "saleSecHouseNum       41440 non-null int64\n",
      "subwayStationNum      41440 non-null int64\n",
      "busStationNum         41440 non-null int64\n",
      "interSchoolNum        41440 non-null int64\n",
      "schoolNum             41440 non-null int64\n",
      "privateSchoolNum      41440 non-null int64\n",
      "hospitalNum           41440 non-null int64\n",
      "drugStoreNum          41440 non-null int64\n",
      "gymNum                41440 non-null int64\n",
      "bankNum               41440 non-null int64\n",
      "shopNum               41440 non-null int64\n",
      "parkNum               41440 non-null int64\n",
      "mallNum               41440 non-null int64\n",
      "superMarketNum        41440 non-null int64\n",
      "totalTradeMoney       41440 non-null int64\n",
      "totalTradeArea        41440 non-null float64\n",
      "tradeMeanPrice        41440 non-null float64\n",
      "tradeSecNum           41440 non-null int64\n",
      "totalNewTradeMoney    41440 non-null int64\n",
      "totalNewTradeArea     41440 non-null int64\n",
      "tradeNewMeanPrice     41440 non-null float64\n",
      "tradeNewNum           41440 non-null int64\n",
      "remainNewNum          41440 non-null int64\n",
      "supplyNewNum          41440 non-null int64\n",
      "supplyLandNum         41440 non-null int64\n",
      "supplyLandArea        41440 non-null float64\n",
      "tradeLandNum          41440 non-null int64\n",
      "tradeLandArea         41440 non-null float64\n",
      "landTotalPrice        41440 non-null int64\n",
      "landMeanPrice         41440 non-null float64\n",
      "totalWorkers          41440 non-null int64\n",
      "newWorkers            41440 non-null int64\n",
      "residentPopulation    41440 non-null int64\n",
      "pv                    41422 non-null float64\n",
      "uv                    41422 non-null float64\n",
      "lookNum               41440 non-null int64\n",
      "tradeTime             41440 non-null object\n",
      "tradeMoney            41440 non-null float64\n",
      "Type                  41440 non-null object\n",
      "dtypes: float64(10), int64(30), object(12)\n",
      "memory usage: 16.4+ MB\n",
      "None\n",
      "                 ID          area    totalFloor  saleSecHouseNum  \\\n",
      "count  4.144000e+04  41440.000000  41440.000000     41440.000000   \n",
      "mean   1.001221e+08     70.959409     11.413152         1.338538   \n",
      "std    9.376566e+04     88.119569      7.375203         3.180349   \n",
      "min    1.000000e+08      1.000000      0.000000         0.000000   \n",
      "25%    1.000470e+08     42.607500      6.000000         0.000000   \n",
      "50%    1.000960e+08     65.000000      7.000000         0.000000   \n",
      "75%    1.001902e+08     90.000000     16.000000         1.000000   \n",
      "max    1.003218e+08  15055.000000     88.000000        52.000000   \n",
      "\n",
      "       subwayStationNum  busStationNum  interSchoolNum     schoolNum  \\\n",
      "count      41440.000000   41440.000000    41440.000000  41440.000000   \n",
      "mean           5.741192     187.197153        1.506395     48.228813   \n",
      "std            4.604929     179.674625        1.687631     29.568448   \n",
      "min            0.000000      24.000000        0.000000      9.000000   \n",
      "25%            2.000000      74.000000        0.000000     24.000000   \n",
      "50%            5.000000     128.000000        1.000000     47.000000   \n",
      "75%            7.000000     258.000000        3.000000     61.000000   \n",
      "max           22.000000     824.000000        8.000000    142.000000   \n",
      "\n",
      "       privateSchoolNum   hospitalNum  ...  tradeLandArea  landTotalPrice  \\\n",
      "count      41440.000000  41440.000000  ...   41440.000000    4.144000e+04   \n",
      "mean           6.271911      4.308736  ...   12621.406425    1.045363e+08   \n",
      "std            4.946457      3.359714  ...   49853.120341    5.215216e+08   \n",
      "min            0.000000      0.000000  ...       0.000000    0.000000e+00   \n",
      "25%            2.000000      1.000000  ...       0.000000    0.000000e+00   \n",
      "50%            5.000000      4.000000  ...       0.000000    0.000000e+00   \n",
      "75%            9.000000      6.000000  ...       0.000000    0.000000e+00   \n",
      "max           24.000000     14.000000  ...  555508.010000    6.197570e+09   \n",
      "\n",
      "       landMeanPrice   totalWorkers     newWorkers  residentPopulation  \\\n",
      "count   41440.000000   41440.000000   41440.000000        41440.000000   \n",
      "mean      724.763918   77250.235497    1137.132095       294514.059459   \n",
      "std      3224.303831  132052.508523    7667.381627       196745.147181   \n",
      "min         0.000000     600.000000       0.000000        49330.000000   \n",
      "25%         0.000000   13983.000000       0.000000       165293.000000   \n",
      "50%         0.000000   38947.000000       0.000000       245872.000000   \n",
      "75%         0.000000   76668.000000       0.000000       330610.000000   \n",
      "max     37513.062490  855400.000000  143700.000000       928198.000000   \n",
      "\n",
      "                  pv            uv       lookNum    tradeMoney  \n",
      "count   41422.000000  41422.000000  41440.000000  4.144000e+04  \n",
      "mean    26945.663512   3089.077085      0.396260  8.837074e+03  \n",
      "std     32174.637924   2954.706517      1.653932  5.514287e+05  \n",
      "min        17.000000      6.000000      0.000000  0.000000e+00  \n",
      "25%      7928.000000   1053.000000      0.000000  2.800000e+03  \n",
      "50%     20196.000000   2375.000000      0.000000  4.000000e+03  \n",
      "75%     34485.000000   4233.000000      0.000000  5.500000e+03  \n",
      "max    621864.000000  39876.000000     37.000000  1.000000e+08  \n",
      "\n",
      "[8 rows x 40 columns]\n"
     ]
    },
    {
     "data": {
      "text/html": [
       "<div>\n",
       "<style scoped>\n",
       "    .dataframe tbody tr th:only-of-type {\n",
       "        vertical-align: middle;\n",
       "    }\n",
       "\n",
       "    .dataframe tbody tr th {\n",
       "        vertical-align: top;\n",
       "    }\n",
       "\n",
       "    .dataframe thead th {\n",
       "        text-align: right;\n",
       "    }\n",
       "</style>\n",
       "<table border=\"1\" class=\"dataframe\">\n",
       "  <thead>\n",
       "    <tr style=\"text-align: right;\">\n",
       "      <th></th>\n",
       "      <th>ID</th>\n",
       "      <th>area</th>\n",
       "      <th>rentType</th>\n",
       "      <th>houseType</th>\n",
       "      <th>houseFloor</th>\n",
       "      <th>totalFloor</th>\n",
       "      <th>houseToward</th>\n",
       "      <th>houseDecoration</th>\n",
       "      <th>communityName</th>\n",
       "      <th>city</th>\n",
       "      <th>...</th>\n",
       "      <th>landMeanPrice</th>\n",
       "      <th>totalWorkers</th>\n",
       "      <th>newWorkers</th>\n",
       "      <th>residentPopulation</th>\n",
       "      <th>pv</th>\n",
       "      <th>uv</th>\n",
       "      <th>lookNum</th>\n",
       "      <th>tradeTime</th>\n",
       "      <th>tradeMoney</th>\n",
       "      <th>Type</th>\n",
       "    </tr>\n",
       "  </thead>\n",
       "  <tbody>\n",
       "    <tr>\n",
       "      <td>0</td>\n",
       "      <td>100309852</td>\n",
       "      <td>68.06</td>\n",
       "      <td>未知方式</td>\n",
       "      <td>2室1厅1卫</td>\n",
       "      <td>低</td>\n",
       "      <td>16</td>\n",
       "      <td>暂无数据</td>\n",
       "      <td>其他</td>\n",
       "      <td>XQ00051</td>\n",
       "      <td>SH</td>\n",
       "      <td>...</td>\n",
       "      <td>0.0000</td>\n",
       "      <td>28248</td>\n",
       "      <td>614</td>\n",
       "      <td>111546</td>\n",
       "      <td>1124.0</td>\n",
       "      <td>284.0</td>\n",
       "      <td>0</td>\n",
       "      <td>2018/11/28</td>\n",
       "      <td>2000.0</td>\n",
       "      <td>Train</td>\n",
       "    </tr>\n",
       "    <tr>\n",
       "      <td>1</td>\n",
       "      <td>100307942</td>\n",
       "      <td>125.55</td>\n",
       "      <td>未知方式</td>\n",
       "      <td>3室2厅2卫</td>\n",
       "      <td>中</td>\n",
       "      <td>14</td>\n",
       "      <td>暂无数据</td>\n",
       "      <td>简装</td>\n",
       "      <td>XQ00130</td>\n",
       "      <td>SH</td>\n",
       "      <td>...</td>\n",
       "      <td>0.0000</td>\n",
       "      <td>14823</td>\n",
       "      <td>148</td>\n",
       "      <td>157552</td>\n",
       "      <td>701.0</td>\n",
       "      <td>22.0</td>\n",
       "      <td>1</td>\n",
       "      <td>2018/12/16</td>\n",
       "      <td>2000.0</td>\n",
       "      <td>Train</td>\n",
       "    </tr>\n",
       "    <tr>\n",
       "      <td>2</td>\n",
       "      <td>100307764</td>\n",
       "      <td>132.00</td>\n",
       "      <td>未知方式</td>\n",
       "      <td>3室2厅2卫</td>\n",
       "      <td>低</td>\n",
       "      <td>32</td>\n",
       "      <td>暂无数据</td>\n",
       "      <td>其他</td>\n",
       "      <td>XQ00179</td>\n",
       "      <td>SH</td>\n",
       "      <td>...</td>\n",
       "      <td>0.0000</td>\n",
       "      <td>77645</td>\n",
       "      <td>520</td>\n",
       "      <td>131744</td>\n",
       "      <td>57.0</td>\n",
       "      <td>20.0</td>\n",
       "      <td>1</td>\n",
       "      <td>2018/12/22</td>\n",
       "      <td>16000.0</td>\n",
       "      <td>Train</td>\n",
       "    </tr>\n",
       "    <tr>\n",
       "      <td>3</td>\n",
       "      <td>100306518</td>\n",
       "      <td>57.00</td>\n",
       "      <td>未知方式</td>\n",
       "      <td>1室1厅1卫</td>\n",
       "      <td>中</td>\n",
       "      <td>17</td>\n",
       "      <td>暂无数据</td>\n",
       "      <td>精装</td>\n",
       "      <td>XQ00313</td>\n",
       "      <td>SH</td>\n",
       "      <td>...</td>\n",
       "      <td>3080.0331</td>\n",
       "      <td>8750</td>\n",
       "      <td>1665</td>\n",
       "      <td>253337</td>\n",
       "      <td>888.0</td>\n",
       "      <td>279.0</td>\n",
       "      <td>9</td>\n",
       "      <td>2018/12/21</td>\n",
       "      <td>1600.0</td>\n",
       "      <td>Train</td>\n",
       "    </tr>\n",
       "    <tr>\n",
       "      <td>4</td>\n",
       "      <td>100305262</td>\n",
       "      <td>129.00</td>\n",
       "      <td>未知方式</td>\n",
       "      <td>3室2厅3卫</td>\n",
       "      <td>低</td>\n",
       "      <td>2</td>\n",
       "      <td>暂无数据</td>\n",
       "      <td>毛坯</td>\n",
       "      <td>XQ01257</td>\n",
       "      <td>SH</td>\n",
       "      <td>...</td>\n",
       "      <td>0.0000</td>\n",
       "      <td>800</td>\n",
       "      <td>117</td>\n",
       "      <td>125309</td>\n",
       "      <td>2038.0</td>\n",
       "      <td>480.0</td>\n",
       "      <td>0</td>\n",
       "      <td>2018/11/18</td>\n",
       "      <td>2900.0</td>\n",
       "      <td>Train</td>\n",
       "    </tr>\n",
       "  </tbody>\n",
       "</table>\n",
       "<p>5 rows × 52 columns</p>\n",
       "</div>"
      ],
      "text/plain": [
       "          ID    area rentType houseType houseFloor  totalFloor houseToward  \\\n",
       "0  100309852   68.06     未知方式    2室1厅1卫          低          16        暂无数据   \n",
       "1  100307942  125.55     未知方式    3室2厅2卫          中          14        暂无数据   \n",
       "2  100307764  132.00     未知方式    3室2厅2卫          低          32        暂无数据   \n",
       "3  100306518   57.00     未知方式    1室1厅1卫          中          17        暂无数据   \n",
       "4  100305262  129.00     未知方式    3室2厅3卫          低           2        暂无数据   \n",
       "\n",
       "  houseDecoration communityName city  ... landMeanPrice totalWorkers  \\\n",
       "0              其他       XQ00051   SH  ...        0.0000        28248   \n",
       "1              简装       XQ00130   SH  ...        0.0000        14823   \n",
       "2              其他       XQ00179   SH  ...        0.0000        77645   \n",
       "3              精装       XQ00313   SH  ...     3080.0331         8750   \n",
       "4              毛坯       XQ01257   SH  ...        0.0000          800   \n",
       "\n",
       "  newWorkers  residentPopulation      pv     uv  lookNum   tradeTime  \\\n",
       "0        614              111546  1124.0  284.0        0  2018/11/28   \n",
       "1        148              157552   701.0   22.0        1  2018/12/16   \n",
       "2        520              131744    57.0   20.0        1  2018/12/22   \n",
       "3       1665              253337   888.0  279.0        9  2018/12/21   \n",
       "4        117              125309  2038.0  480.0        0  2018/11/18   \n",
       "\n",
       "   tradeMoney   Type  \n",
       "0      2000.0  Train  \n",
       "1      2000.0  Train  \n",
       "2     16000.0  Train  \n",
       "3      1600.0  Train  \n",
       "4      2900.0  Train  \n",
       "\n",
       "[5 rows x 52 columns]"
      ]
     },
     "execution_count": 20,
     "metadata": {},
     "output_type": "execute_result"
    }
   ],
   "source": [
    "# 总体情况\n",
    "print(data_train.info())\n",
    "print(data_train.describe())\n",
    "data_train.head()"
   ]
  },
  {
   "cell_type": "markdown",
   "metadata": {},
   "source": [
    "## 分类特征和连续型特征"
   ]
  },
  {
   "cell_type": "code",
   "execution_count": 6,
   "metadata": {
    "ExecuteTime": {
     "end_time": "2019-12-24T14:05:08.172371Z",
     "start_time": "2019-12-24T14:05:08.162401Z"
    }
   },
   "outputs": [],
   "source": [
    "# 根据特征含义和特征一览，大致可以判断出数值型和类别型特征如下\n",
    "categorical_feas = ['rentType', 'houseType', 'houseFloor', 'region', 'plate', 'houseToward', 'houseDecoration',\n",
    "    'communityName','city','region','plate','buildYear']\n",
    "numerical_feas=['ID','area','totalFloor','saleSecHouseNum','subwayStationNum',\n",
    "    'busStationNum','interSchoolNum','schoolNum','privateSchoolNum','hospitalNum',\n",
    "    'drugStoreNum','gymNum','bankNum','shopNum','parkNum','mallNum','superMarketNum',\n",
    "    'totalTradeMoney','totalTradeArea','tradeMeanPrice','tradeSecNum','totalNewTradeMoney',\n",
    "    'totalNewTradeArea','tradeNewMeanPrice','tradeNewNum','remainNewNum','supplyNewNum',\n",
    "    'supplyLandNum','supplyLandArea','tradeLandNum','tradeLandArea','landTotalPrice',\n",
    "    'landMeanPrice','totalWorkers','newWorkers','residentPopulation','pv','uv','lookNum']"
   ]
  },
  {
   "cell_type": "markdown",
   "metadata": {},
   "source": [
    "## 缺失值分析"
   ]
  },
  {
   "cell_type": "code",
   "execution_count": 7,
   "metadata": {
    "ExecuteTime": {
     "end_time": "2019-12-24T14:05:09.367176Z",
     "start_time": "2019-12-24T14:05:09.263457Z"
    }
   },
   "outputs": [
    {
     "data": {
      "text/html": [
       "<div>\n",
       "<style scoped>\n",
       "    .dataframe tbody tr th:only-of-type {\n",
       "        vertical-align: middle;\n",
       "    }\n",
       "\n",
       "    .dataframe tbody tr th {\n",
       "        vertical-align: top;\n",
       "    }\n",
       "\n",
       "    .dataframe thead th {\n",
       "        text-align: right;\n",
       "    }\n",
       "</style>\n",
       "<table border=\"1\" class=\"dataframe\">\n",
       "  <thead>\n",
       "    <tr style=\"text-align: right;\">\n",
       "      <th></th>\n",
       "      <th>missingNum</th>\n",
       "      <th>existNum</th>\n",
       "      <th>sum</th>\n",
       "      <th>missingRatio</th>\n",
       "      <th>dtype</th>\n",
       "    </tr>\n",
       "    <tr>\n",
       "      <th>index</th>\n",
       "      <th></th>\n",
       "      <th></th>\n",
       "      <th></th>\n",
       "      <th></th>\n",
       "      <th></th>\n",
       "    </tr>\n",
       "  </thead>\n",
       "  <tbody>\n",
       "    <tr>\n",
       "      <td>pv</td>\n",
       "      <td>18</td>\n",
       "      <td>41422</td>\n",
       "      <td>41440</td>\n",
       "      <td>0.043436</td>\n",
       "      <td>float64</td>\n",
       "    </tr>\n",
       "    <tr>\n",
       "      <td>uv</td>\n",
       "      <td>18</td>\n",
       "      <td>41422</td>\n",
       "      <td>41440</td>\n",
       "      <td>0.043436</td>\n",
       "      <td>float64</td>\n",
       "    </tr>\n",
       "  </tbody>\n",
       "</table>\n",
       "</div>"
      ],
      "text/plain": [
       "       missingNum  existNum    sum  missingRatio    dtype\n",
       "index                                                    \n",
       "pv             18     41422  41440      0.043436  float64\n",
       "uv             18     41422  41440      0.043436  float64"
      ]
     },
     "execution_count": 7,
     "metadata": {},
     "output_type": "execute_result"
    }
   ],
   "source": [
    "# 缺失值分析\n",
    "def missing_values(df):\n",
    "    alldata_na = pd.DataFrame(df.isnull().sum(), columns={'missingNum'})\n",
    "    alldata_na['existNum'] = len(df) - alldata_na['missingNum']\n",
    "    alldata_na['sum'] = len(df)\n",
    "    alldata_na['missingRatio'] = alldata_na['missingNum']/len(df)*100\n",
    "    alldata_na['dtype'] = df.dtypes\n",
    "    #ascending：默认True升序排列；False降序排列\n",
    "    alldata_na = alldata_na[alldata_na['missingNum']>0].reset_index().sort_values(by=['missingNum','index'],ascending=[False,True])\n",
    "    alldata_na.set_index('index',inplace=True)\n",
    "    return alldata_na\n",
    "\n",
    "missing_values(data_train)"
   ]
  },
  {
   "cell_type": "markdown",
   "metadata": {},
   "source": [
    "仅有pv、uv存在缺失值，后面再探究会发现缺失的都是属于同一个plate，可能是官方直接删除了该plate的pv、uv"
   ]
  },
  {
   "cell_type": "markdown",
   "metadata": {},
   "source": [
    "## 单调特征列分析"
   ]
  },
  {
   "cell_type": "code",
   "execution_count": 12,
   "metadata": {
    "ExecuteTime": {
     "end_time": "2019-12-24T14:05:35.623999Z",
     "start_time": "2019-12-24T14:05:34.738329Z"
    }
   },
   "outputs": [
    {
     "name": "stdout",
     "output_type": "stream",
     "text": [
      "单调特征： tradeTime\n",
      "单调特征值个数： 24085\n",
      "单调特征值比例： 0.5812017374517374\n"
     ]
    }
   ],
   "source": [
    "#是否有单调特征列(单调的特征列很大可能是时间)\n",
    "def incresing(vals):\n",
    "    cnt = 0\n",
    "    len_ = len(vals)\n",
    "    for i in range(len_-1):\n",
    "        if vals[i+1] > vals[i]:\n",
    "            cnt += 1\n",
    "    return cnt\n",
    "\n",
    "fea_cols = [col for col in data_train.columns]\n",
    "for col in fea_cols:\n",
    "    cnt = incresing(data_train[col].values)\n",
    "    if cnt / data_train.shape[0] >= 0.55:\n",
    "        print('单调特征：',col)\n",
    "        print('单调特征值个数：', cnt)\n",
    "        print('单调特征值比例：', cnt / data_train.shape[0])"
   ]
  },
  {
   "cell_type": "markdown",
   "metadata": {},
   "source": [
    "## 特征nunique分布"
   ]
  },
  {
   "cell_type": "code",
   "execution_count": 13,
   "metadata": {
    "ExecuteTime": {
     "end_time": "2019-12-24T14:05:49.677415Z",
     "start_time": "2019-12-24T14:05:44.166121Z"
    }
   },
   "outputs": [
    {
     "name": "stdout",
     "output_type": "stream",
     "text": [
      "rentType的特征分布如下：\n",
      "未知方式    30759\n",
      "整租       5472\n",
      "合租       5204\n",
      "--          5\n",
      "Name: rentType, dtype: int64\n"
     ]
    },
    {
     "data": {
      "image/png": "[encoded data removed]",
      "text/plain": [
       "<Figure size 432x288 with 1 Axes>"
      ]
     },
     "metadata": {
      "needs_background": "light"
     },
     "output_type": "display_data"
    },
    {
     "name": "stdout",
     "output_type": "stream",
     "text": [
      "houseType的特征分布如下：\n",
      "1室1厅1卫    9805\n",
      "2室1厅1卫    8512\n",
      "2室2厅1卫    6783\n",
      "3室1厅1卫    3992\n",
      "3室2厅2卫    2737\n",
      "          ... \n",
      "7室4厅3卫       1\n",
      "6室1厅4卫       1\n",
      "5室5厅4卫       1\n",
      "2室1厅3卫       1\n",
      "8室3厅4卫       1\n",
      "Name: houseType, Length: 104, dtype: int64\n"
     ]
    },
    {
     "data": {
      "image/png": "[encoded data removed]",
      "text/plain": [
       "<Figure size 432x288 with 1 Axes>"
      ]
     },
     "metadata": {
      "needs_background": "light"
     },
     "output_type": "display_data"
    },
    {
     "name": "stdout",
     "output_type": "stream",
     "text": [
      "houseFloor的特征分布如下：\n",
      "中    15458\n",
      "高    14066\n",
      "低    11916\n",
      "Name: houseFloor, dtype: int64\n"
     ]
    },
    {
     "data": {
      "image/png": "[encoded data removed]",
      "text/plain": [
       "<Figure size 432x288 with 1 Axes>"
      ]
     },
     "metadata": {
      "needs_background": "light"
     },
     "output_type": "display_data"
    },
    {
     "name": "stdout",
     "output_type": "stream",
     "text": [
      "region的特征分布如下：\n",
      "RG00002    11437\n",
      "RG00005     5739\n",
      "RG00003     4186\n",
      "RG00010     3640\n",
      "RG00012     3368\n",
      "RG00004     3333\n",
      "RG00006     1961\n",
      "RG00007     1610\n",
      "RG00008     1250\n",
      "RG00013     1215\n",
      "RG00001     1157\n",
      "RG00014     1069\n",
      "RG00011      793\n",
      "RG00009      681\n",
      "RG00015        1\n",
      "Name: region, dtype: int64\n"
     ]
    },
    {
     "data": {
      "image/png": "[encoded data removed]",
      "text/plain": [
       "<Figure size 432x288 with 1 Axes>"
      ]
     },
     "metadata": {
      "needs_background": "light"
     },
     "output_type": "display_data"
    },
    {
     "name": "stdout",
     "output_type": "stream",
     "text": [
      "plate的特征分布如下：\n",
      "BK00031    1958\n",
      "BK00033    1837\n",
      "BK00045    1816\n",
      "BK00055    1566\n",
      "BK00056    1516\n",
      "           ... \n",
      "BK00016      40\n",
      "BK00036      33\n",
      "BK00058      15\n",
      "BK00032       3\n",
      "BK00001       1\n",
      "Name: plate, Length: 66, dtype: int64\n"
     ]
    },
    {
     "data": {
      "image/png": "[encoded data removed]",
      "text/plain": [
       "<Figure size 432x288 with 1 Axes>"
      ]
     },
     "metadata": {
      "needs_background": "light"
     },
     "output_type": "display_data"
    },
    {
     "name": "stdout",
     "output_type": "stream",
     "text": [
      "houseToward的特征分布如下：\n",
      "南       34377\n",
      "南北       2254\n",
      "北        2043\n",
      "暂无数据      963\n",
      "东南        655\n",
      "东         552\n",
      "西         264\n",
      "西南        250\n",
      "西北         58\n",
      "东西         24\n",
      "Name: houseToward, dtype: int64\n"
     ]
    },
    {
     "data": {
      "image/png": "[encoded data removed]",
      "text/plain": [
       "<Figure size 432x288 with 1 Axes>"
      ]
     },
     "metadata": {
      "needs_background": "light"
     },
     "output_type": "display_data"
    },
    {
     "name": "stdout",
     "output_type": "stream",
     "text": [
      "houseDecoration的特征分布如下：\n",
      "其他    29040\n",
      "精装    10918\n",
      "简装     1171\n",
      "毛坯      311\n",
      "Name: houseDecoration, dtype: int64\n"
     ]
    },
    {
     "data": {
      "image/png": "[encoded data removed]",
      "text/plain": [
       "<Figure size 432x288 with 1 Axes>"
      ]
     },
     "metadata": {
      "needs_background": "light"
     },
     "output_type": "display_data"
    },
    {
     "name": "stdout",
     "output_type": "stream",
     "text": [
      "communityName的特征分布如下：\n",
      "XQ01834    358\n",
      "XQ01274    192\n",
      "XQ02273    188\n",
      "XQ03110    185\n",
      "XQ02337    173\n",
      "          ... \n",
      "XQ01302      1\n",
      "XQ02870      1\n",
      "XQ01972      1\n",
      "XQ02671      1\n",
      "XQ01787      1\n",
      "Name: communityName, Length: 4236, dtype: int64\n",
      "city的特征分布如下：\n",
      "SH    41440\n",
      "Name: city, dtype: int64\n"
     ]
    },
    {
     "data": {
      "image/png": "[encoded data removed]",
      "text/plain": [
       "<Figure size 432x288 with 1 Axes>"
      ]
     },
     "metadata": {
      "needs_background": "light"
     },
     "output_type": "display_data"
    },
    {
     "name": "stdout",
     "output_type": "stream",
     "text": [
      "region的特征分布如下：\n",
      "RG00002    11437\n",
      "RG00005     5739\n",
      "RG00003     4186\n",
      "RG00010     3640\n",
      "RG00012     3368\n",
      "RG00004     3333\n",
      "RG00006     1961\n",
      "RG00007     1610\n",
      "RG00008     1250\n",
      "RG00013     1215\n",
      "RG00001     1157\n",
      "RG00014     1069\n",
      "RG00011      793\n",
      "RG00009      681\n",
      "RG00015        1\n",
      "Name: region, dtype: int64\n"
     ]
    },
    {
     "data": {
      "image/png": "[encoded data removed]",
      "text/plain": [
       "<Figure size 432x288 with 1 Axes>"
      ]
     },
     "metadata": {
      "needs_background": "light"
     },
     "output_type": "display_data"
    },
    {
     "name": "stdout",
     "output_type": "stream",
     "text": [
      "plate的特征分布如下：\n",
      "BK00031    1958\n",
      "BK00033    1837\n",
      "BK00045    1816\n",
      "BK00055    1566\n",
      "BK00056    1516\n",
      "           ... \n",
      "BK00016      40\n",
      "BK00036      33\n",
      "BK00058      15\n",
      "BK00032       3\n",
      "BK00001       1\n",
      "Name: plate, Length: 66, dtype: int64\n"
     ]
    },
    {
     "data": {
      "image/png": "[encoded data removed]",
      "text/plain": [
       "<Figure size 432x288 with 1 Axes>"
      ]
     },
     "metadata": {
      "needs_background": "light"
     },
     "output_type": "display_data"
    },
    {
     "name": "stdout",
     "output_type": "stream",
     "text": [
      "buildYear的特征分布如下：\n",
      "1994    2851\n",
      "暂无信息    2808\n",
      "2006    2007\n",
      "2007    1851\n",
      "2008    1849\n",
      "        ... \n",
      "1972       2\n",
      "1961       2\n",
      "1962       1\n",
      "1950       1\n",
      "1951       1\n",
      "Name: buildYear, Length: 80, dtype: int64\n"
     ]
    },
    {
     "data": {
      "image/png": "[encoded data removed]",
      "text/plain": [
       "<Figure size 432x288 with 1 Axes>"
      ]
     },
     "metadata": {
      "needs_background": "light"
     },
     "output_type": "display_data"
    }
   ],
   "source": [
    "# 特征nunique分布\n",
    "for feature in categorical_feas:\n",
    "    print(feature + \"的特征分布如下：\")\n",
    "    print(data_train[feature].value_counts())\n",
    "    if feature != 'communityName': # communityName值太多，暂且不看图表\n",
    "        plt.hist(data_all[feature], bins=3)\n",
    "        plt.show()"
   ]
  },
  {
   "cell_type": "code",
   "execution_count": 14,
   "metadata": {
    "ExecuteTime": {
     "end_time": "2019-12-24T14:05:49.713284Z",
     "start_time": "2019-12-24T14:05:49.681367Z"
    }
   },
   "outputs": [
    {
     "name": "stdout",
     "output_type": "stream",
     "text": [
      "XQ01834    358\n",
      "XQ01274    192\n",
      "XQ02273    188\n",
      "XQ03110    185\n",
      "XQ02337    173\n",
      "          ... \n",
      "XQ01302      1\n",
      "XQ02870      1\n",
      "XQ01972      1\n",
      "XQ02671      1\n",
      "XQ01787      1\n",
      "Name: communityName, Length: 4236, dtype: int64\n",
      "XQ03306    1\n",
      "XQ00629    1\n",
      "XQ01830    1\n",
      "XQ00534    1\n",
      "XQ02021    1\n",
      "          ..\n",
      "XQ03596    1\n",
      "XQ03784    1\n",
      "XQ00332    1\n",
      "XQ01140    1\n",
      "XQ00239    1\n",
      "Name: communityName, Length: 2469, dtype: int64\n"
     ]
    }
   ],
   "source": [
    "print(data_train['communityName'].value_counts())\n",
    "print(data_test['communityName'].value_counts())"
   ]
  },
  {
   "cell_type": "markdown",
   "metadata": {},
   "source": [
    "## 统计特征值频次大于100的特征"
   ]
  },
  {
   "cell_type": "code",
   "execution_count": 15,
   "metadata": {
    "ExecuteTime": {
     "end_time": "2019-12-24T14:05:51.911403Z",
     "start_time": "2019-12-24T14:05:51.761806Z"
    }
   },
   "outputs": [
    {
     "name": "stdout",
     "output_type": "stream",
     "text": [
      "  rentType  counts\n",
      "0     未知方式   30759\n",
      "1       整租    5472\n",
      "2       合租    5204\n",
      "   houseType  counts\n",
      "0     1室1厅1卫    9805\n",
      "1     2室1厅1卫    8512\n",
      "2     2室2厅1卫    6783\n",
      "3     3室1厅1卫    3992\n",
      "4     3室2厅2卫    2737\n",
      "5     4室1厅1卫    1957\n",
      "6     3室2厅1卫    1920\n",
      "7     1室0厅1卫    1286\n",
      "8     1室2厅1卫     933\n",
      "9     2室2厅2卫     881\n",
      "10    4室2厅2卫     435\n",
      "11    2室0厅1卫     419\n",
      "12    4室2厅3卫     273\n",
      "13    5室1厅1卫     197\n",
      "14    2室1厅2卫     155\n",
      "15    3室2厅3卫     149\n",
      "16    3室1厅2卫     135\n",
      "  houseFloor  counts\n",
      "0          中   15458\n",
      "1          高   14066\n",
      "2          低   11916\n",
      "     region  counts\n",
      "0   RG00002   11437\n",
      "1   RG00005    5739\n",
      "2   RG00003    4186\n",
      "3   RG00010    3640\n",
      "4   RG00012    3368\n",
      "5   RG00004    3333\n",
      "6   RG00006    1961\n",
      "7   RG00007    1610\n",
      "8   RG00008    1250\n",
      "9   RG00013    1215\n",
      "10  RG00001    1157\n",
      "11  RG00014    1069\n",
      "12  RG00011     793\n",
      "13  RG00009     681\n",
      "      plate  counts\n",
      "0   BK00031    1958\n",
      "1   BK00033    1837\n",
      "2   BK00045    1816\n",
      "3   BK00055    1566\n",
      "4   BK00056    1516\n",
      "5   BK00052    1375\n",
      "6   BK00017    1305\n",
      "7   BK00041    1266\n",
      "8   BK00054    1256\n",
      "9   BK00051    1253\n",
      "10  BK00046    1227\n",
      "11  BK00035    1156\n",
      "12  BK00042    1137\n",
      "13  BK00009    1016\n",
      "14  BK00050     979\n",
      "15  BK00043     930\n",
      "16  BK00026     906\n",
      "17  BK00047     880\n",
      "18  BK00034     849\n",
      "19  BK00013     834\n",
      "20  BK00053     819\n",
      "21  BK00028     745\n",
      "22  BK00040     679\n",
      "23  BK00060     671\n",
      "24  BK00010     651\n",
      "25  BK00029     646\n",
      "26  BK00062     618\n",
      "27  BK00022     614\n",
      "28  BK00018     613\n",
      "29  BK00064     590\n",
      "30  BK00005     549\n",
      "31  BK00003     523\n",
      "32  BK00014     500\n",
      "33  BK00019     498\n",
      "34  BK00061     477\n",
      "35  BK00011     455\n",
      "36  BK00037     444\n",
      "37  BK00012     412\n",
      "38  BK00038     398\n",
      "39  BK00024     397\n",
      "40  BK00020     384\n",
      "41  BK00002     357\n",
      "42  BK00065     348\n",
      "43  BK00027     344\n",
      "44  BK00039     343\n",
      "45  BK00063     281\n",
      "46  BK00057     278\n",
      "47  BK00015     253\n",
      "48  BK00006     231\n",
      "49  BK00021     226\n",
      "50  BK00007     225\n",
      "51  BK00066     219\n",
      "52  BK00030     219\n",
      "53  BK00049     211\n",
      "54  BK00008     210\n",
      "55  BK00004     189\n",
      "56  BK00048     165\n",
      "57  BK00025     157\n",
      "58  BK00023     127\n",
      "59  BK00059     122\n",
      "  houseToward  counts\n",
      "0           南   34377\n",
      "1          南北    2254\n",
      "2           北    2043\n",
      "3        暂无数据     963\n",
      "4          东南     655\n",
      "5           东     552\n",
      "6           西     264\n",
      "7          西南     250\n",
      "  houseDecoration  counts\n",
      "0              其他   29040\n",
      "1              精装   10918\n",
      "2              简装    1171\n",
      "3              毛坯     311\n",
      "   communityName  counts\n",
      "0        XQ01834     358\n",
      "1        XQ01274     192\n",
      "2        XQ02273     188\n",
      "3        XQ03110     185\n",
      "4        XQ02337     173\n",
      "5        XQ01389     166\n",
      "6        XQ01658     163\n",
      "7        XQ02789     152\n",
      "8        XQ00530     151\n",
      "9        XQ01561     151\n",
      "10       XQ01339     132\n",
      "11       XQ01873     122\n",
      "12       XQ00826     122\n",
      "13       XQ02296     121\n",
      "14       XQ01232     119\n",
      "15       XQ01401     118\n",
      "16       XQ02441     117\n",
      "17       XQ00196     115\n",
      "18       XQ01207     109\n",
      "19       XQ02365     109\n",
      "20       XQ01410     108\n",
      "21       XQ00852     105\n",
      "22       XQ02072     103\n",
      "23       XQ01672     103\n",
      "  city  counts\n",
      "0   SH   41440\n",
      "     region  counts\n",
      "0   RG00002   11437\n",
      "1   RG00005    5739\n",
      "2   RG00003    4186\n",
      "3   RG00010    3640\n",
      "4   RG00012    3368\n",
      "5   RG00004    3333\n",
      "6   RG00006    1961\n",
      "7   RG00007    1610\n",
      "8   RG00008    1250\n",
      "9   RG00013    1215\n",
      "10  RG00001    1157\n",
      "11  RG00014    1069\n",
      "12  RG00011     793\n",
      "13  RG00009     681\n",
      "      plate  counts\n",
      "0   BK00031    1958\n",
      "1   BK00033    1837\n",
      "2   BK00045    1816\n",
      "3   BK00055    1566\n",
      "4   BK00056    1516\n",
      "5   BK00052    1375\n",
      "6   BK00017    1305\n",
      "7   BK00041    1266\n",
      "8   BK00054    1256\n",
      "9   BK00051    1253\n",
      "10  BK00046    1227\n",
      "11  BK00035    1156\n",
      "12  BK00042    1137\n",
      "13  BK00009    1016\n",
      "14  BK00050     979\n",
      "15  BK00043     930\n",
      "16  BK00026     906\n",
      "17  BK00047     880\n",
      "18  BK00034     849\n",
      "19  BK00013     834\n",
      "20  BK00053     819\n",
      "21  BK00028     745\n",
      "22  BK00040     679\n",
      "23  BK00060     671\n",
      "24  BK00010     651\n",
      "25  BK00029     646\n",
      "26  BK00062     618\n",
      "27  BK00022     614\n",
      "28  BK00018     613\n",
      "29  BK00064     590\n",
      "30  BK00005     549\n",
      "31  BK00003     523\n",
      "32  BK00014     500\n",
      "33  BK00019     498\n",
      "34  BK00061     477\n",
      "35  BK00011     455\n",
      "36  BK00037     444\n",
      "37  BK00012     412\n",
      "38  BK00038     398\n",
      "39  BK00024     397\n",
      "40  BK00020     384\n",
      "41  BK00002     357\n",
      "42  BK00065     348\n",
      "43  BK00027     344\n",
      "44  BK00039     343\n",
      "45  BK00063     281\n",
      "46  BK00057     278\n",
      "47  BK00015     253\n",
      "48  BK00006     231\n",
      "49  BK00021     226\n",
      "50  BK00007     225\n",
      "51  BK00066     219\n",
      "52  BK00030     219\n",
      "53  BK00049     211\n",
      "54  BK00008     210\n",
      "55  BK00004     189\n",
      "56  BK00048     165\n",
      "57  BK00025     157\n",
      "58  BK00023     127\n",
      "59  BK00059     122\n",
      "   buildYear  counts\n",
      "0       1994    2851\n",
      "1       暂无信息    2808\n",
      "2       2006    2007\n",
      "3       2007    1851\n",
      "4       2008    1849\n",
      "5       2005    1814\n",
      "6       2010    1774\n",
      "7       1995    1685\n",
      "8       1993    1543\n",
      "9       2011    1498\n",
      "10      2004    1431\n",
      "11      2009    1271\n",
      "12      2014    1238\n",
      "13      2003    1156\n",
      "14      1997    1125\n",
      "15      2002    1120\n",
      "16      2012    1049\n",
      "17      1996     991\n",
      "18      2000     925\n",
      "19      2001     898\n",
      "20      2015     840\n",
      "21      1999     822\n",
      "22      1998     733\n",
      "23      2013     714\n",
      "24      1987     632\n",
      "25      1983     612\n",
      "26      1991     545\n",
      "27      1984     493\n",
      "28      1980     452\n",
      "29      1990     431\n",
      "30      1988     423\n",
      "31      1989     419\n",
      "32      1985     359\n",
      "33      1982     344\n",
      "34      1986     320\n",
      "35      1992     308\n",
      "36      1976     251\n",
      "37      1957     227\n",
      "38      1981     221\n",
      "39      1977     153\n",
      "40      1956     153\n",
      "41      2016     140\n",
      "42      1978     133\n",
      "43      1958     122\n",
      "44      1979     116\n",
      "45      1954     101\n"
     ]
    }
   ],
   "source": [
    "# 统计特征值出现频次大于100的特征\n",
    "for feature in categorical_feas:\n",
    "    df_value_counts = pd.DataFrame(data_train[feature].value_counts())\n",
    "    df_value_counts = df_value_counts.reset_index()\n",
    "    df_value_counts.columns = [feature, 'counts'] # change column names\n",
    "    print(df_value_counts[df_value_counts['counts'] >= 100])"
   ]
  },
  {
   "cell_type": "markdown",
   "metadata": {},
   "source": [
    "## Label分布"
   ]
  },
  {
   "cell_type": "code",
   "execution_count": 18,
   "metadata": {
    "ExecuteTime": {
     "end_time": "2019-12-24T14:06:19.982362Z",
     "start_time": "2019-12-24T14:06:18.263931Z"
    }
   },
   "outputs": [
    {
     "data": {
      "text/plain": [
       "<matplotlib.axes._subplots.AxesSubplot at 0x148a8d47ba8>"
      ]
     },
     "execution_count": 18,
     "metadata": {},
     "output_type": "execute_result"
    },
    {
     "data": {
      "image/png": "[encoded data removed]",
      "text/plain": [
       "<Figure size 1440x864 with 6 Axes>"
      ]
     },
     "metadata": {
      "needs_background": "light"
     },
     "output_type": "display_data"
    }
   ],
   "source": [
    "# Labe 分布\n",
    "fig,axes = plt.subplots(2,3,figsize=(20,5))\n",
    "fig.set_size_inches(20,12)\n",
    "sns.distplot(data_train['tradeMoney'],ax=axes[0][0])\n",
    "sns.distplot(data_train[(data_train['tradeMoney']<=20000)]['tradeMoney'],ax=axes[0][1])\n",
    "sns.distplot(data_train[(data_train['tradeMoney']>20000)&(data_train['tradeMoney']<=50000)]['tradeMoney'],ax=axes[0][2])\n",
    "sns.distplot(data_train[(data_train['tradeMoney']>50000)&(data_train['tradeMoney']<=100000)]['tradeMoney'],ax=axes[1][0])\n",
    "sns.distplot(data_train[(data_train['tradeMoney']>100000)]['tradeMoney'],ax=axes[1][1])"
   ]
  },
  {
   "cell_type": "code",
   "execution_count": 19,
   "metadata": {
    "ExecuteTime": {
     "end_time": "2019-12-24T14:06:22.373942Z",
     "start_time": "2019-12-24T14:06:22.313139Z"
    }
   },
   "outputs": [
    {
     "name": "stdout",
     "output_type": "stream",
     "text": [
      "money<=10000 38964\n",
      "10000<money<=20000 1985\n",
      "20000<money<=50000 433\n",
      "50000<money<=100000 39\n",
      "100000<money 19\n"
     ]
    }
   ],
   "source": [
    "print(\"money<=10000\",len(data_train[(data_train['tradeMoney']<=10000)]['tradeMoney']))\n",
    "print(\"10000<money<=20000\",len(data_train[(data_train['tradeMoney']>10000)&(data_train['tradeMoney']<=20000)]['tradeMoney']))\n",
    "print(\"20000<money<=50000\",len(data_train[(data_train['tradeMoney']>20000)&(data_train['tradeMoney']<=50000)]['tradeMoney']))\n",
    "print(\"50000<money<=100000\",len(data_train[(data_train['tradeMoney']>50000)&(data_train['tradeMoney']<=100000)]['tradeMoney']))\n",
    "print(\"100000<money\",len(data_train[(data_train['tradeMoney']>100000)]['tradeMoney']))"
   ]
  }
 ],
 "metadata": {
  "kernelspec": {
   "display_name": "Python 3",
   "language": "python",
   "name": "python3"
  },
  "language_info": {
   "codemirror_mode": {
    "name": "ipython",
    "version": 3
   },
   "file_extension": ".py",
   "mimetype": "text/x-python",
   "name": "python",
   "nbconvert_exporter": "python",
   "pygments_lexer": "ipython3",
   "version": "3.7.4"
  },
  "toc": {
   "base_numbering": 1,
   "nav_menu": {},
   "number_sections": false,
   "sideBar": true,
   "skip_h1_title": false,
   "title_cell": "Table of Contents",
   "title_sidebar": "Contents",
   "toc_cell": false,
   "toc_position": {
    "height": "calc(100% - 180px)",
    "left": "10px",
    "top": "150px",
    "width": "307.2px"
   },
   "toc_section_display": true,
   "toc_window_display": true
  }
 },
 "nbformat": 4,
 "nbformat_minor": 4
}
